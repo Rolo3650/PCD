{
 "cells": [
  {
   "cell_type": "markdown",
   "id": "da76c429-d844-4229-b952-27ea8b789e9e",
   "metadata": {},
   "source": [
    " # Funciones basicas con Arrays"
   ]
  },
  {
   "cell_type": "code",
   "execution_count": 1,
   "id": "ddfe6500-7323-4d84-9bf4-9f0113dc766e",
   "metadata": {},
   "outputs": [],
   "source": [
    "# Importanto la libreria\n",
    "import numpy as np"
   ]
  },
  {
   "cell_type": "code",
   "execution_count": 2,
   "id": "b761e505-60ef-453e-9e21-8b630e7eab1a",
   "metadata": {},
   "outputs": [],
   "source": [
    "# Creamos la semilla par al ageneracion de los numeros aleatorios\n",
    "np.random.seed(0)  "
   ]
  },
  {
   "cell_type": "code",
   "execution_count": 3,
   "id": "fa768660-01ab-4246-bdc4-38bb44de4963",
   "metadata": {},
   "outputs": [],
   "source": [
    "# x1 es un arreglo unidimensional o un tensor de una dimension\n",
    "x1 = np.random.randint(10, size=6)  "
   ]
  },
  {
   "cell_type": "code",
   "execution_count": 5,
   "id": "9aa25223-8c41-48aa-b19b-5e3e0f916d3b",
   "metadata": {},
   "outputs": [
    {
     "name": "stdout",
     "output_type": "stream",
     "text": [
      "[5 0 3 3 7 9]\n"
     ]
    }
   ],
   "source": [
    "print(x1)"
   ]
  },
  {
   "cell_type": "code",
   "execution_count": 6,
   "id": "3490d7bc-65df-49b1-83b6-8e06fe9f79e1",
   "metadata": {},
   "outputs": [
    {
     "data": {
      "text/plain": [
       "array([5, 0, 3, 3, 7, 9], dtype=int32)"
      ]
     },
     "execution_count": 6,
     "metadata": {},
     "output_type": "execute_result"
    }
   ],
   "source": [
    "x1"
   ]
  },
  {
   "cell_type": "code",
   "execution_count": 7,
   "id": "1af5cb06-174a-4016-854d-c303de7c2dba",
   "metadata": {},
   "outputs": [],
   "source": [
    "# Tensor de dos dimensiones\n",
    "x2 = np.random.randint(10, size=(3, 4))"
   ]
  },
  {
   "cell_type": "code",
   "execution_count": 8,
   "id": "d6dcf1fe-028b-43e8-a8aa-cbfe716a9e80",
   "metadata": {},
   "outputs": [
    {
     "data": {
      "text/plain": [
       "array([[3, 5, 2, 4],\n",
       "       [7, 6, 8, 8],\n",
       "       [1, 6, 7, 7]], dtype=int32)"
      ]
     },
     "execution_count": 8,
     "metadata": {},
     "output_type": "execute_result"
    }
   ],
   "source": [
    "x2"
   ]
  },
  {
   "cell_type": "code",
   "execution_count": 10,
   "id": "9e00bc68-49cc-49b0-9415-b2352665b394",
   "metadata": {},
   "outputs": [
    {
     "data": {
      "text/plain": [
       "np.int32(4)"
      ]
     },
     "execution_count": 10,
     "metadata": {},
     "output_type": "execute_result"
    }
   ],
   "source": [
    "x2[0,3]"
   ]
  },
  {
   "cell_type": "code",
   "execution_count": 11,
   "id": "9996206e-a32e-4d29-9ae2-af1c3fc230ba",
   "metadata": {},
   "outputs": [
    {
     "data": {
      "text/plain": [
       "array([[146, 188, 181],\n",
       "       [137, 125, 177]], dtype=int32)"
      ]
     },
     "execution_count": 11,
     "metadata": {},
     "output_type": "execute_result"
    }
   ],
   "source": [
    "y = np.random.randint(100, 200, (2,3))\n",
    "y"
   ]
  },
  {
   "cell_type": "code",
   "execution_count": 12,
   "id": "908d12d4-4c3a-4498-83bd-0f58063c3c58",
   "metadata": {},
   "outputs": [],
   "source": [
    "# Tensor de 3 dimensiones\n",
    "x3 = np.random.randint(10, size=(3, 4, 5))"
   ]
  },
  {
   "cell_type": "code",
   "execution_count": 13,
   "id": "78ac90aa-e70e-4f04-8cf2-027a1000618a",
   "metadata": {},
   "outputs": [
    {
     "data": {
      "text/plain": [
       "array([[[8, 9, 4, 3, 0],\n",
       "        [3, 5, 0, 2, 3],\n",
       "        [8, 1, 3, 3, 3],\n",
       "        [7, 0, 1, 9, 9]],\n",
       "\n",
       "       [[0, 4, 7, 3, 2],\n",
       "        [7, 2, 0, 0, 4],\n",
       "        [5, 5, 6, 8, 4],\n",
       "        [1, 4, 9, 8, 1]],\n",
       "\n",
       "       [[1, 7, 9, 9, 3],\n",
       "        [6, 7, 2, 0, 3],\n",
       "        [5, 9, 4, 4, 6],\n",
       "        [4, 4, 3, 4, 4]]], dtype=int32)"
      ]
     },
     "execution_count": 13,
     "metadata": {},
     "output_type": "execute_result"
    }
   ],
   "source": [
    "x3"
   ]
  },
  {
   "cell_type": "code",
   "execution_count": 15,
   "id": "49a63a19-4536-4bef-b76c-3ab4897a39f4",
   "metadata": {},
   "outputs": [
    {
     "name": "stdout",
     "output_type": "stream",
     "text": [
      "8\n"
     ]
    }
   ],
   "source": [
    "print(x3[1, 2, 3])"
   ]
  },
  {
   "cell_type": "code",
   "execution_count": 16,
   "id": "2947c4df-92f3-4697-b273-d6590edc4c2b",
   "metadata": {},
   "outputs": [
    {
     "name": "stdout",
     "output_type": "stream",
     "text": [
      "X1 Dim:1 Shape:(6,) Size:6\n"
     ]
    }
   ],
   "source": [
    "#Imprimir atributos del tensor x1\n",
    "print(f'X1 Dim:{x1.ndim} Shape:{x1.shape} Size:{x1.size}')"
   ]
  },
  {
   "cell_type": "code",
   "execution_count": 17,
   "id": "01770827-d9b7-4dc9-93dd-f940d9fd6f34",
   "metadata": {},
   "outputs": [
    {
     "data": {
      "text/plain": [
       "array([5, 0, 3, 3, 7, 9], dtype=int32)"
      ]
     },
     "execution_count": 17,
     "metadata": {},
     "output_type": "execute_result"
    }
   ],
   "source": [
    "x1"
   ]
  },
  {
   "cell_type": "code",
   "execution_count": 18,
   "id": "3316f4d7-0e98-4aff-9105-9418cdff6b41",
   "metadata": {},
   "outputs": [
    {
     "name": "stdout",
     "output_type": "stream",
     "text": [
      "X2 Dim:2 Shape:(3, 4) Size:12\n"
     ]
    }
   ],
   "source": [
    "# Imprimir atributos del tensor x2\n",
    "print(f'X2 Dim:{x2.ndim} Shape:{x2.shape} Size:{x2.size}')"
   ]
  },
  {
   "cell_type": "code",
   "execution_count": 19,
   "id": "9507772d-be37-428c-b002-4d7ddda84108",
   "metadata": {},
   "outputs": [
    {
     "data": {
      "text/plain": [
       "array([[3, 5, 2, 4],\n",
       "       [7, 6, 8, 8],\n",
       "       [1, 6, 7, 7]], dtype=int32)"
      ]
     },
     "execution_count": 19,
     "metadata": {},
     "output_type": "execute_result"
    }
   ],
   "source": [
    "x2"
   ]
  },
  {
   "cell_type": "code",
   "execution_count": 20,
   "id": "342b999d-ea7a-4524-b96c-9659b5ca1210",
   "metadata": {},
   "outputs": [
    {
     "name": "stdout",
     "output_type": "stream",
     "text": [
      "X3 Dim:3 Shape:(3, 4, 5) Size:60\n"
     ]
    }
   ],
   "source": [
    "# Imprimir atributos del tensor x3\n",
    "print(f'X3 Dim:{x3.ndim} Shape:{x3.shape} Size:{x3.size}')"
   ]
  },
  {
   "cell_type": "code",
   "execution_count": 21,
   "id": "45cf9f7a-ae54-4e80-83ce-cff1178f1b5e",
   "metadata": {},
   "outputs": [
    {
     "data": {
      "text/plain": [
       "array([[[8, 9, 4, 3, 0],\n",
       "        [3, 5, 0, 2, 3],\n",
       "        [8, 1, 3, 3, 3],\n",
       "        [7, 0, 1, 9, 9]],\n",
       "\n",
       "       [[0, 4, 7, 3, 2],\n",
       "        [7, 2, 0, 0, 4],\n",
       "        [5, 5, 6, 8, 4],\n",
       "        [1, 4, 9, 8, 1]],\n",
       "\n",
       "       [[1, 7, 9, 9, 3],\n",
       "        [6, 7, 2, 0, 3],\n",
       "        [5, 9, 4, 4, 6],\n",
       "        [4, 4, 3, 4, 4]]], dtype=int32)"
      ]
     },
     "execution_count": 21,
     "metadata": {},
     "output_type": "execute_result"
    }
   ],
   "source": [
    "x3"
   ]
  },
  {
   "cell_type": "code",
   "execution_count": null,
   "id": "d464a15b-36cd-4004-bd2b-406fec8a522f",
   "metadata": {},
   "outputs": [],
   "source": []
  }
 ],
 "metadata": {
  "kernelspec": {
   "display_name": "Python 3 (ipykernel)",
   "language": "python",
   "name": "python3"
  },
  "language_info": {
   "codemirror_mode": {
    "name": "ipython",
    "version": 3
   },
   "file_extension": ".py",
   "mimetype": "text/x-python",
   "name": "python",
   "nbconvert_exporter": "python",
   "pygments_lexer": "ipython3",
   "version": "3.11.0"
  }
 },
 "nbformat": 4,
 "nbformat_minor": 5
}
