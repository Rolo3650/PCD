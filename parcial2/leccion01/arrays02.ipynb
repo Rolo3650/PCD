{
 "cells": [
  {
   "cell_type": "markdown",
   "id": "7b2ced13-8429-4294-b98f-01b202c6094c",
   "metadata": {},
   "source": [
    "# Tipos de datos en NumPy"
   ]
  },
  {
   "cell_type": "code",
   "execution_count": 1,
   "id": "83b1ecf0-2aa0-4bc1-9244-bd3d0572236a",
   "metadata": {},
   "outputs": [],
   "source": [
    "# Importanto la libreria\n",
    "import numpy as np"
   ]
  },
  {
   "cell_type": "code",
   "execution_count": 2,
   "id": "70488960-6d71-444c-8fe1-63a698b90a62",
   "metadata": {},
   "outputs": [
    {
     "data": {
      "text/plain": [
       "array([0, 0, 0, 0, 0, 0, 0, 0, 0, 0], dtype=int16)"
      ]
     },
     "execution_count": 2,
     "metadata": {},
     "output_type": "execute_result"
    }
   ],
   "source": [
    "np.zeros(10, dtype='int16')"
   ]
  },
  {
   "cell_type": "code",
   "execution_count": 3,
   "id": "ccd94cb8-25bc-456f-9f60-6284c046e5a8",
   "metadata": {},
   "outputs": [
    {
     "data": {
      "text/plain": [
       "array([0, 0, 0, 0, 0, 0, 0, 0, 0, 0], dtype=int16)"
      ]
     },
     "execution_count": 3,
     "metadata": {},
     "output_type": "execute_result"
    }
   ],
   "source": [
    "np.zeros(10, dtype=np.int16)"
   ]
  },
  {
   "cell_type": "markdown",
   "id": "e2b387d5-db44-4ec2-8ee7-9e81dca761e5",
   "metadata": {},
   "source": [
    "|Data type | Description |\n",
    "|---|---|\n",
    "|bool_|Boolean (True or False) stored as a byte |\n",
    "|int_|Default integer type (same as C long; normally either int64 or |int32)|\n",
    "|intc|Identical to C int (normally int32 or int64)|\n",
    "|intp|Integer used for indexing (same as C ssize_t; normally either |int32 or int64)|\n",
    "|int8|Byte (-128 to 127)|\n",
    "|int16|Integer (-32768 to 32767)|\n",
    "|int32|Integer (-2147483648 to 2147483647)|\n",
    "|int64|Integer (-9223372036854775808 to 9223372036854775807)|\n",
    "|uint8|Unsigned integer (0 to 255)|\n",
    "|uint16|Unsigned integer (0 to 65535)|\n",
    "|uint32|Unsigned integer (0 to 4294967295)|\n",
    "|uint64|Unsigned integer (0 to 18446744073709551615)|\n",
    "|float_|Shorthand for float64.|\n",
    "|float16|Half precision float: sign bit, 5 bits exponent, 10 bits mantissa|\n",
    "|float32|Single precision float: sign bit, 8 bits exponent, 23 bits mantissa|\n",
    "|float64|Double precision float: sign bit, 11 bits exponent, 52 bits mantissa|\n",
    "|complex_|Shorthand for complex128.|\n",
    "|complex64|Complex number, represented by two 32-bit floats|\n",
    "|complex128|Complex number, represented by two 64-bit floats|"
   ]
  },
  {
   "cell_type": "code",
   "execution_count": null,
   "id": "2a201998-6b14-4771-8064-ed618c61198a",
   "metadata": {},
   "outputs": [],
   "source": []
  }
 ],
 "metadata": {
  "kernelspec": {
   "display_name": "Python 3 (ipykernel)",
   "language": "python",
   "name": "python3"
  },
  "language_info": {
   "codemirror_mode": {
    "name": "ipython",
    "version": 3
   },
   "file_extension": ".py",
   "mimetype": "text/x-python",
   "name": "python",
   "nbconvert_exporter": "python",
   "pygments_lexer": "ipython3",
   "version": "3.11.0"
  }
 },
 "nbformat": 4,
 "nbformat_minor": 5
}
