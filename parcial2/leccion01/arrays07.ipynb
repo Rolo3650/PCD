{
 "cells": [
  {
   "cell_type": "markdown",
   "id": "41350f2c-b7d2-405b-91b4-cd57ecec5bfa",
   "metadata": {},
   "source": [
    "# Agregacion de elementos a un array"
   ]
  },
  {
   "cell_type": "code",
   "execution_count": 1,
   "id": "1146c7bc-ba5c-4f97-8222-7fe0e8148a4d",
   "metadata": {},
   "outputs": [],
   "source": [
    "import numpy as np"
   ]
  },
  {
   "cell_type": "code",
   "execution_count": 11,
   "id": "87851912-77b6-449b-9a2e-4af2ae68fbea",
   "metadata": {},
   "outputs": [
    {
     "data": {
      "text/plain": [
       "array([1, 1, 1], dtype=int16)"
      ]
     },
     "execution_count": 11,
     "metadata": {},
     "output_type": "execute_result"
    }
   ],
   "source": [
    "# Tensor de una dimension con 3 elementos con valores enteros igual a 1 \n",
    "array1 = np.ones(3, dtype='int16')\n",
    "array1"
   ]
  },
  {
   "cell_type": "code",
   "execution_count": 12,
   "id": "2c1ff862-fe3e-49ed-af64-17ea2fedc066",
   "metadata": {},
   "outputs": [
    {
     "data": {
      "text/plain": [
       "array([0, 0, 0], dtype=int16)"
      ]
     },
     "execution_count": 12,
     "metadata": {},
     "output_type": "execute_result"
    }
   ],
   "source": [
    "# Tensor de una dimension con 3 elementos con valores enteros iguales a 0\n",
    "array2 = np.zeros(3, dtype='int16')\n",
    "array2"
   ]
  },
  {
   "cell_type": "code",
   "execution_count": 13,
   "id": "dd968c7d-9b64-4c37-9c78-93a1168b554a",
   "metadata": {},
   "outputs": [
    {
     "name": "stdout",
     "output_type": "stream",
     "text": [
      "[array([1, 1, 1], dtype=int16), array([0, 0, 0], dtype=int16)]\n"
     ]
    }
   ],
   "source": [
    "# Lista con 2 elementos que son arreglos d eNumpy\n",
    "array3 = [array1, array2]\n",
    "print(array3)"
   ]
  },
  {
   "cell_type": "code",
   "execution_count": 14,
   "id": "9425e5e2-a3a1-4358-b69e-d33a3bb3b160",
   "metadata": {},
   "outputs": [
    {
     "data": {
      "text/plain": [
       "array([1, 1, 1, 0, 0, 0], dtype=int16)"
      ]
     },
     "execution_count": 14,
     "metadata": {},
     "output_type": "execute_result"
    }
   ],
   "source": [
    "array4 = np.append(array1, array2)\n",
    "array4"
   ]
  },
  {
   "cell_type": "code",
   "execution_count": 17,
   "id": "ba9f48b6-6c2d-4d43-8061-b82a760528cc",
   "metadata": {},
   "outputs": [
    {
     "data": {
      "text/plain": [
       "array([0.93266385, 0.78610828, 0.54058492])"
      ]
     },
     "execution_count": 17,
     "metadata": {},
     "output_type": "execute_result"
    }
   ],
   "source": [
    "array5= np.random.random(3)\n",
    "array5"
   ]
  },
  {
   "cell_type": "code",
   "execution_count": 19,
   "id": "a96d397b-869f-4b3a-a880-3d22e8e8fae5",
   "metadata": {},
   "outputs": [
    {
     "data": {
      "text/plain": [
       "array([1.        , 1.        , 1.        , 0.93266385, 0.78610828,\n",
       "       0.54058492])"
      ]
     },
     "execution_count": 19,
     "metadata": {},
     "output_type": "execute_result"
    }
   ],
   "source": [
    "array6 = np.append(array1, array5)\n",
    "array6"
   ]
  },
  {
   "cell_type": "code",
   "execution_count": 20,
   "id": "01bedb19-66e7-4e9b-8414-11635d26ee8c",
   "metadata": {},
   "outputs": [
    {
     "data": {
      "text/plain": [
       "array(['a', 'b', 'c'], dtype='<U1')"
      ]
     },
     "execution_count": 20,
     "metadata": {},
     "output_type": "execute_result"
    }
   ],
   "source": [
    "array7 = np.array(['a','b', 'c'])\n",
    "array7"
   ]
  },
  {
   "cell_type": "code",
   "execution_count": 22,
   "id": "4bbb37e5-6453-45fb-a207-03f5eb6becc9",
   "metadata": {},
   "outputs": [
    {
     "data": {
      "text/plain": [
       "array(['0.9326638500291797', '0.7861082759846578', '0.5405849159520748',\n",
       "       'a', 'b', 'c'], dtype='<U32')"
      ]
     },
     "execution_count": 22,
     "metadata": {},
     "output_type": "execute_result"
    }
   ],
   "source": [
    "array8 = np.append(array5, array7)\n",
    "array8"
   ]
  },
  {
   "cell_type": "code",
   "execution_count": 25,
   "id": "ec8ec188-f6c4-4fb0-9570-1ba1b0e028b2",
   "metadata": {},
   "outputs": [
    {
     "data": {
      "text/plain": [
       "1.7187721260138376"
      ]
     },
     "execution_count": 25,
     "metadata": {},
     "output_type": "execute_result"
    }
   ],
   "source": [
    "float(array8[0])+float(array8[1])"
   ]
  },
  {
   "cell_type": "code",
   "execution_count": 26,
   "id": "e0324b7f-12fe-43bc-ba7f-1e82cffeb86c",
   "metadata": {},
   "outputs": [
    {
     "data": {
      "text/plain": [
       "'0.93266385002917970.7861082759846578'"
      ]
     },
     "execution_count": 26,
     "metadata": {},
     "output_type": "execute_result"
    }
   ],
   "source": [
    "array8[0]+array8[1]"
   ]
  },
  {
   "cell_type": "code",
   "execution_count": 27,
   "id": "d899a9f5-7f27-4317-b832-7cfcf4935e7b",
   "metadata": {},
   "outputs": [
    {
     "data": {
      "text/plain": [
       "array([1, 1, 1], dtype=int16)"
      ]
     },
     "execution_count": 27,
     "metadata": {},
     "output_type": "execute_result"
    }
   ],
   "source": [
    "array1"
   ]
  },
  {
   "cell_type": "code",
   "execution_count": 28,
   "id": "7b0475c2-4748-466b-9ecb-0247e45463c0",
   "metadata": {},
   "outputs": [
    {
     "data": {
      "text/plain": [
       "array([0, 0, 0], dtype=int16)"
      ]
     },
     "execution_count": 28,
     "metadata": {},
     "output_type": "execute_result"
    }
   ],
   "source": [
    "array2"
   ]
  },
  {
   "cell_type": "code",
   "execution_count": 29,
   "id": "bd848495-543e-4e25-a3a5-c8d9b2908328",
   "metadata": {},
   "outputs": [
    {
     "data": {
      "text/plain": [
       "array([[1, 1, 1]], dtype=int16)"
      ]
     },
     "execution_count": 29,
     "metadata": {},
     "output_type": "execute_result"
    }
   ],
   "source": [
    "array11 = array1.reshape(1,3)\n",
    "array11"
   ]
  },
  {
   "cell_type": "code",
   "execution_count": 30,
   "id": "b2cd19e5-83f5-404b-b8cc-fbe7c22a067c",
   "metadata": {},
   "outputs": [
    {
     "data": {
      "text/plain": [
       "array([[0, 0, 0]], dtype=int16)"
      ]
     },
     "execution_count": 30,
     "metadata": {},
     "output_type": "execute_result"
    }
   ],
   "source": [
    "array22 = array2.reshape(1,3)\n",
    "array22"
   ]
  },
  {
   "cell_type": "code",
   "execution_count": 31,
   "id": "ef9f084c-21fb-451f-9859-bb119754801f",
   "metadata": {},
   "outputs": [
    {
     "data": {
      "text/plain": [
       "array([1, 1, 1, 0, 0, 0], dtype=int16)"
      ]
     },
     "execution_count": 31,
     "metadata": {},
     "output_type": "execute_result"
    }
   ],
   "source": [
    "array33 = np.append(array11, array22)\n",
    "array33"
   ]
  },
  {
   "cell_type": "code",
   "execution_count": 32,
   "id": "e47f1837-f0c4-446e-8abf-3836346e6e68",
   "metadata": {},
   "outputs": [
    {
     "data": {
      "text/plain": [
       "array([[1, 1, 1],\n",
       "       [0, 0, 0]], dtype=int16)"
      ]
     },
     "execution_count": 32,
     "metadata": {},
     "output_type": "execute_result"
    }
   ],
   "source": [
    "array44 = np.append(array11, array22, axis=0)\n",
    "array44"
   ]
  },
  {
   "cell_type": "code",
   "execution_count": 34,
   "id": "4d4e03b2-64c3-40ce-8e61-245ab3b03bee",
   "metadata": {},
   "outputs": [
    {
     "ename": "AxisError",
     "evalue": "axis 1 is out of bounds for array of dimension 1",
     "output_type": "error",
     "traceback": [
      "\u001b[1;31m---------------------------------------------------------------------------\u001b[0m",
      "\u001b[1;31mAxisError\u001b[0m                                 Traceback (most recent call last)",
      "Cell \u001b[1;32mIn[34], line 1\u001b[0m\n\u001b[1;32m----> 1\u001b[0m array55 \u001b[38;5;241m=\u001b[39m \u001b[43mnp\u001b[49m\u001b[38;5;241;43m.\u001b[39;49m\u001b[43mappend\u001b[49m\u001b[43m(\u001b[49m\u001b[43marray1\u001b[49m\u001b[43m,\u001b[49m\u001b[43m \u001b[49m\u001b[43marray2\u001b[49m\u001b[43m,\u001b[49m\u001b[43m \u001b[49m\u001b[43maxis\u001b[49m\u001b[38;5;241;43m=\u001b[39;49m\u001b[38;5;241;43m1\u001b[39;49m\u001b[43m)\u001b[49m\n\u001b[0;32m      2\u001b[0m array55\n",
      "File \u001b[1;32mc:\\Users\\silva\\Documents\\Augusto\\ESCOM\\2024\\RepositoriosCienciaDeDatos\\PCD_2024\\.venv\\Lib\\site-packages\\numpy\\lib\\_function_base_impl.py:5685\u001b[0m, in \u001b[0;36mappend\u001b[1;34m(arr, values, axis)\u001b[0m\n\u001b[0;32m   5683\u001b[0m     values \u001b[38;5;241m=\u001b[39m ravel(values)\n\u001b[0;32m   5684\u001b[0m     axis \u001b[38;5;241m=\u001b[39m arr\u001b[38;5;241m.\u001b[39mndim\u001b[38;5;241m-\u001b[39m\u001b[38;5;241m1\u001b[39m\n\u001b[1;32m-> 5685\u001b[0m \u001b[38;5;28;01mreturn\u001b[39;00m \u001b[43mconcatenate\u001b[49m\u001b[43m(\u001b[49m\u001b[43m(\u001b[49m\u001b[43marr\u001b[49m\u001b[43m,\u001b[49m\u001b[43m \u001b[49m\u001b[43mvalues\u001b[49m\u001b[43m)\u001b[49m\u001b[43m,\u001b[49m\u001b[43m \u001b[49m\u001b[43maxis\u001b[49m\u001b[38;5;241;43m=\u001b[39;49m\u001b[43maxis\u001b[49m\u001b[43m)\u001b[49m\n",
      "\u001b[1;31mAxisError\u001b[0m: axis 1 is out of bounds for array of dimension 1"
     ]
    }
   ],
   "source": [
    "array55 = np.append(array1, array2, axis=1)\n",
    "array55"
   ]
  },
  {
   "cell_type": "code",
   "execution_count": 35,
   "id": "f5f9bd63-6eef-43ee-bdfe-f38725921282",
   "metadata": {},
   "outputs": [
    {
     "data": {
      "text/plain": [
       "array([[ 1,  2,  3,  4],\n",
       "       [ 5,  6,  7,  8],\n",
       "       [ 9, 10, 11, 12]])"
      ]
     },
     "execution_count": 35,
     "metadata": {},
     "output_type": "execute_result"
    }
   ],
   "source": [
    "prueba1 = np.arange(1,13).reshape(3,4)\n",
    "prueba1"
   ]
  },
  {
   "cell_type": "code",
   "execution_count": 36,
   "id": "8c1a3039-1d96-4939-81db-c78d08acd69a",
   "metadata": {},
   "outputs": [
    {
     "data": {
      "text/plain": [
       "array([[1.05139233, 0.24806555, 0.47002908, 1.37472574]])"
      ]
     },
     "execution_count": 36,
     "metadata": {},
     "output_type": "execute_result"
    }
   ],
   "source": [
    "prueba2 = np.random.normal(0,1,4).reshape(1,4)\n",
    "prueba2"
   ]
  },
  {
   "cell_type": "code",
   "execution_count": 37,
   "id": "12ce9351-665c-464e-a1cc-812fd728b6a2",
   "metadata": {},
   "outputs": [
    {
     "data": {
      "text/plain": [
       "array([ 1.        ,  2.        ,  3.        ,  4.        ,  5.        ,\n",
       "        6.        ,  7.        ,  8.        ,  9.        , 10.        ,\n",
       "       11.        , 12.        ,  1.05139233,  0.24806555,  0.47002908,\n",
       "        1.37472574])"
      ]
     },
     "execution_count": 37,
     "metadata": {},
     "output_type": "execute_result"
    }
   ],
   "source": [
    "prueba3 = np.append(prueba1, prueba2)\n",
    "prueba3"
   ]
  },
  {
   "cell_type": "code",
   "execution_count": 38,
   "id": "91cac4b4-6f55-4196-b54d-edf0526e010d",
   "metadata": {},
   "outputs": [
    {
     "data": {
      "text/plain": [
       "array([[ 1.        ,  2.        ,  3.        ,  4.        ],\n",
       "       [ 5.        ,  6.        ,  7.        ,  8.        ],\n",
       "       [ 9.        , 10.        , 11.        , 12.        ],\n",
       "       [ 1.05139233,  0.24806555,  0.47002908,  1.37472574]])"
      ]
     },
     "execution_count": 38,
     "metadata": {},
     "output_type": "execute_result"
    }
   ],
   "source": [
    "prueba4 = np.append(prueba1, prueba2, axis=0)\n",
    "prueba4"
   ]
  },
  {
   "cell_type": "code",
   "execution_count": 39,
   "id": "ddd0dbdc-0c5d-4b0c-b32f-55c04c41c6a8",
   "metadata": {},
   "outputs": [
    {
     "data": {
      "text/plain": [
       "array([[100.47537423, 100.60042872,  97.53273467, 102.5876139 ],\n",
       "       [104.12186057, 102.01034916,  98.14960432,  98.50858529],\n",
       "       [ 97.17481143,  93.55459789, 101.53134997,  98.35111657]])"
      ]
     },
     "execution_count": 39,
     "metadata": {},
     "output_type": "execute_result"
    }
   ],
   "source": [
    "prueba5 = np.random.normal(100,2,12).reshape(3,4)\n",
    "prueba5"
   ]
  },
  {
   "cell_type": "code",
   "execution_count": 41,
   "id": "faefae90-02bd-4d43-997b-21355eaff250",
   "metadata": {},
   "outputs": [
    {
     "data": {
      "text/plain": [
       "array([  1.        ,   2.        ,   3.        ,   4.        ,\n",
       "         5.        ,   6.        ,   7.        ,   8.        ,\n",
       "         9.        ,  10.        ,  11.        ,  12.        ,\n",
       "       100.47537423, 100.60042872,  97.53273467, 102.5876139 ,\n",
       "       104.12186057, 102.01034916,  98.14960432,  98.50858529,\n",
       "        97.17481143,  93.55459789, 101.53134997,  98.35111657])"
      ]
     },
     "execution_count": 41,
     "metadata": {},
     "output_type": "execute_result"
    }
   ],
   "source": [
    "prueba6= np.append(prueba1, prueba5)\n",
    "prueba6"
   ]
  },
  {
   "cell_type": "code",
   "execution_count": 42,
   "id": "5cc40454-99bc-4a01-9e86-c259aa4a9f7a",
   "metadata": {},
   "outputs": [
    {
     "data": {
      "text/plain": [
       "array([[  1.        ,   2.        ,   3.        ,   4.        ],\n",
       "       [  5.        ,   6.        ,   7.        ,   8.        ],\n",
       "       [  9.        ,  10.        ,  11.        ,  12.        ],\n",
       "       [100.47537423, 100.60042872,  97.53273467, 102.5876139 ],\n",
       "       [104.12186057, 102.01034916,  98.14960432,  98.50858529],\n",
       "       [ 97.17481143,  93.55459789, 101.53134997,  98.35111657]])"
      ]
     },
     "execution_count": 42,
     "metadata": {},
     "output_type": "execute_result"
    }
   ],
   "source": [
    "prueba7= np.append(prueba1, prueba5, axis=0)\n",
    "prueba7"
   ]
  },
  {
   "cell_type": "code",
   "execution_count": null,
   "id": "bf086538-6cef-4d11-b15f-1981dd5db7e0",
   "metadata": {},
   "outputs": [],
   "source": []
  }
 ],
 "metadata": {
  "kernelspec": {
   "display_name": "Python 3 (ipykernel)",
   "language": "python",
   "name": "python3"
  },
  "language_info": {
   "codemirror_mode": {
    "name": "ipython",
    "version": 3
   },
   "file_extension": ".py",
   "mimetype": "text/x-python",
   "name": "python",
   "nbconvert_exporter": "python",
   "pygments_lexer": "ipython3",
   "version": "3.11.0"
  }
 },
 "nbformat": 4,
 "nbformat_minor": 5
}
