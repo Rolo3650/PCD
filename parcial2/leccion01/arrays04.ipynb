{
 "cells": [
  {
   "cell_type": "markdown",
   "id": "692eeb85-c5a8-43ad-ba83-900e996eda95",
   "metadata": {},
   "source": [
    "# Slicing de arreglos"
   ]
  },
  {
   "cell_type": "code",
   "execution_count": 1,
   "id": "d98f2d5a-3368-464f-893a-f02acbed02cc",
   "metadata": {},
   "outputs": [],
   "source": [
    "import numpy as np"
   ]
  },
  {
   "cell_type": "code",
   "execution_count": 3,
   "id": "7ede1778-7d14-4931-8c1f-3f4e54d7a0e6",
   "metadata": {},
   "outputs": [
    {
     "data": {
      "text/plain": [
       "array([[29, 97, 81, 11, 89, 50, 64, 55, 95, 35],\n",
       "       [36, 98, 81, 61, 80, 82, 62, 49, 64, 32],\n",
       "       [75, 31,  9, 81, 92,  1,  7, 34, 13,  3],\n",
       "       [45, 94, 13,  3, 72,  9, 41,  3, 66, 40],\n",
       "       [34, 68, 64, 51, 95, 69, 26, 56, 91,  9],\n",
       "       [35, 44, 82, 77, 35, 25,  2, 97, 26, 55],\n",
       "       [71, 36, 96, 10, 48, 22, 41, 85, 74, 14],\n",
       "       [81,  7, 42,  0, 41, 38,  1, 97, 91, 24],\n",
       "       [30, 74, 72, 14, 22, 79, 20, 91, 74, 67],\n",
       "       [76, 61, 33,  7, 67, 69, 36, 72, 37, 37]], dtype=int32)"
      ]
     },
     "execution_count": 3,
     "metadata": {},
     "output_type": "execute_result"
    }
   ],
   "source": [
    "matriz = np.random.randint(0, 100, size=(10,10))\n",
    "matriz"
   ]
  },
  {
   "cell_type": "code",
   "execution_count": 16,
   "id": "e84a522a-494c-41af-b9a7-dfc373ca1f8c",
   "metadata": {},
   "outputs": [
    {
     "data": {
      "text/plain": [
       "array([[36, 81, 80, 62, 64],\n",
       "       [45, 13, 72, 41, 66],\n",
       "       [35, 82, 35,  2, 26],\n",
       "       [81, 42, 41,  1, 91],\n",
       "       [76, 33, 67, 36, 37]], dtype=int32)"
      ]
     },
     "execution_count": 16,
     "metadata": {},
     "output_type": "execute_result"
    }
   ],
   "source": [
    "# Columnas pares, renglones impares\n",
    "subMatriz = matriz[1::2, 0::2]\n",
    "subMatriz"
   ]
  },
  {
   "cell_type": "code",
   "execution_count": 17,
   "id": "7537f840-faf4-44e5-ae04-78a578416b10",
   "metadata": {},
   "outputs": [
    {
     "data": {
      "text/plain": [
       "array([[-1, 81, 80, 62, 64],\n",
       "       [45, 13, 72, 41, 66],\n",
       "       [35, 82, 35,  2, 26],\n",
       "       [81, 42, 41,  1, 91],\n",
       "       [76, 33, 67, 36, 37]], dtype=int32)"
      ]
     },
     "execution_count": 17,
     "metadata": {},
     "output_type": "execute_result"
    }
   ],
   "source": [
    "subMatriz[0, 0] = -1\n",
    "subMatriz"
   ]
  },
  {
   "cell_type": "code",
   "execution_count": 23,
   "id": "87706a35-cdb1-4eee-8816-679ae4957aa3",
   "metadata": {},
   "outputs": [
    {
     "data": {
      "text/plain": [
       "array([[29, 97, 81, 11, 89, 50, 64, 55, 95, 35],\n",
       "       [-1, 98, 81, 61, 80, 82, 62, 49, 64, 32],\n",
       "       [75, 31,  9, 81, 92,  1,  7, 34, 13,  3],\n",
       "       [45, 94, 13,  3, 72,  9, 41,  3, 66, 40],\n",
       "       [34, 68, 64, 51, 95, 69, 26, 56, 91,  9],\n",
       "       [35, 44, 82, 77, 35, 25,  2, 97, 26, 55],\n",
       "       [71, 36, 96, 10, 48, 22, 41, 85, 74, 14],\n",
       "       [81,  7, 42,  0, 41, 38,  1, 97, 91, 24],\n",
       "       [30, 74, 72, 14, 22, 79, 20, 91, 74, 67],\n",
       "       [76, 61, 33,  7, 67, 69, 36, 72, 37, 37]], dtype=int32)"
      ]
     },
     "execution_count": 23,
     "metadata": {},
     "output_type": "execute_result"
    }
   ],
   "source": [
    "matriz"
   ]
  },
  {
   "cell_type": "code",
   "execution_count": null,
   "id": "913880f3-aac0-4054-87d1-cc8a086eaffc",
   "metadata": {},
   "outputs": [],
   "source": [
    "# Renlones del 3 al 6, columnas de 3 al 6. Invertir renglones y columnas\n",
    "# Esto devuelve un arreglo vacio, porque el elemento final de las columnas\n",
    "# esta por delante del elemento inicial y el incremento es positivo\n",
    "# Esto no imprime un error, simplemente imprime un arreglo vacio\n",
    "matriz[-4:2:-1, -4:2:]\n"
   ]
  },
  {
   "cell_type": "code",
   "execution_count": 25,
   "id": "d88bb4f9-ec15-44ee-8640-ccd543bc9136",
   "metadata": {},
   "outputs": [
    {
     "data": {
      "text/plain": [
       "array([[10, 48, 22, 41],\n",
       "       [77, 35, 25,  2],\n",
       "       [51, 95, 69, 26],\n",
       "       [ 3, 72,  9, 41]], dtype=int32)"
      ]
     },
     "execution_count": 25,
     "metadata": {},
     "output_type": "execute_result"
    }
   ],
   "source": [
    "# Renlones del 3 al 6, columnas de 3 al 6. Invertir renglones \n",
    "matriz[-4:2:-1, 3:7:]"
   ]
  },
  {
   "cell_type": "code",
   "execution_count": 21,
   "id": "23a5aa04-0d5e-4ad4-bc26-b4baa4ef131e",
   "metadata": {},
   "outputs": [
    {
     "data": {
      "text/plain": [
       "array([[41, 22, 48, 10],\n",
       "       [ 2, 25, 35, 77],\n",
       "       [26, 69, 95, 51],\n",
       "       [41,  9, 72,  3]], dtype=int32)"
      ]
     },
     "execution_count": 21,
     "metadata": {},
     "output_type": "execute_result"
    }
   ],
   "source": [
    "# Renlones del 3 al 6, columnas de 3 al 6. Invertir renglones y columnas\n",
    "matriz[-4:2:-1, -4:2:-1]"
   ]
  },
  {
   "cell_type": "code",
   "execution_count": 19,
   "id": "45d8ca62-11df-40a7-bbde-799f2c14c0cf",
   "metadata": {},
   "outputs": [
    {
     "data": {
      "text/plain": [
       "array([[29, 89, 95],\n",
       "       [45, 72, 66],\n",
       "       [71, 48, 74],\n",
       "       [76, 67, 37]], dtype=int32)"
      ]
     },
     "execution_count": 19,
     "metadata": {},
     "output_type": "execute_result"
    }
   ],
   "source": [
    "# Renglones multiplos de 3 y columnas multiplos de 4\n",
    "matriz[::3, ::4]"
   ]
  },
  {
   "cell_type": "code",
   "execution_count": 13,
   "id": "5ebe87c6-e2ab-4ccc-a46c-dbc893dec5da",
   "metadata": {},
   "outputs": [
    {
     "data": {
      "text/plain": [
       "array([[50, 64],\n",
       "       [82, 62],\n",
       "       [ 1,  7],\n",
       "       [ 9, 41],\n",
       "       [69, 26],\n",
       "       [25,  2],\n",
       "       [22, 41],\n",
       "       [38,  1],\n",
       "       [79, 20],\n",
       "       [69, 36]], dtype=int32)"
      ]
     },
     "execution_count": 13,
     "metadata": {},
     "output_type": "execute_result"
    }
   ],
   "source": [
    "# Columnas 5 y 6\n",
    "matriz[:, 5:7]"
   ]
  },
  {
   "cell_type": "code",
   "execution_count": 12,
   "id": "4dc1961f-b652-4bf3-aaf8-d9cc780bf06c",
   "metadata": {},
   "outputs": [
    {
     "data": {
      "text/plain": [
       "array([[35],\n",
       "       [32],\n",
       "       [ 3],\n",
       "       [40],\n",
       "       [ 9],\n",
       "       [55],\n",
       "       [14],\n",
       "       [24],\n",
       "       [67],\n",
       "       [37]], dtype=int32)"
      ]
     },
     "execution_count": 12,
     "metadata": {},
     "output_type": "execute_result"
    }
   ],
   "source": [
    "# La ultima columna\n",
    "matriz[:, -1:]"
   ]
  },
  {
   "cell_type": "code",
   "execution_count": 4,
   "id": "a6f929aa-ea90-4a5a-9b43-4acd389f5ff6",
   "metadata": {},
   "outputs": [
    {
     "name": "stdout",
     "output_type": "stream",
     "text": [
      "2\n"
     ]
    }
   ],
   "source": [
    "print(matriz[5,6])"
   ]
  },
  {
   "cell_type": "code",
   "execution_count": 11,
   "id": "87c66c75-37aa-4940-9e41-8b3e3df97f0b",
   "metadata": {},
   "outputs": [
    {
     "data": {
      "text/plain": [
       "array([[29, 97, 81, 11, 89, 50, 64, 55, 95, 35],\n",
       "       [75, 31,  9, 81, 92,  1,  7, 34, 13,  3],\n",
       "       [34, 68, 64, 51, 95, 69, 26, 56, 91,  9],\n",
       "       [71, 36, 96, 10, 48, 22, 41, 85, 74, 14],\n",
       "       [30, 74, 72, 14, 22, 79, 20, 91, 74, 67]], dtype=int32)"
      ]
     },
     "execution_count": 11,
     "metadata": {},
     "output_type": "execute_result"
    }
   ],
   "source": [
    "# Renglones pares\n",
    "matriz[::2, :]"
   ]
  },
  {
   "cell_type": "code",
   "execution_count": 10,
   "id": "02001703-ba57-4037-8570-66fe9c95b338",
   "metadata": {},
   "outputs": [
    {
     "data": {
      "text/plain": [
       "array([[36, 98, 81, 61, 80, 82, 62, 49, 64, 32],\n",
       "       [45, 94, 13,  3, 72,  9, 41,  3, 66, 40],\n",
       "       [35, 44, 82, 77, 35, 25,  2, 97, 26, 55],\n",
       "       [81,  7, 42,  0, 41, 38,  1, 97, 91, 24],\n",
       "       [76, 61, 33,  7, 67, 69, 36, 72, 37, 37]], dtype=int32)"
      ]
     },
     "execution_count": 10,
     "metadata": {},
     "output_type": "execute_result"
    }
   ],
   "source": [
    "# Renglones impares\n",
    "matriz[1::2, :]"
   ]
  },
  {
   "cell_type": "code",
   "execution_count": 9,
   "id": "c7c0fa8c-1a44-44ca-ac2c-e7216ad7cde5",
   "metadata": {},
   "outputs": [
    {
     "data": {
      "text/plain": [
       "array([[71, 36, 96, 10, 48, 22, 41, 85, 74, 14],\n",
       "       [81,  7, 42,  0, 41, 38,  1, 97, 91, 24],\n",
       "       [30, 74, 72, 14, 22, 79, 20, 91, 74, 67],\n",
       "       [76, 61, 33,  7, 67, 69, 36, 72, 37, 37]], dtype=int32)"
      ]
     },
     "execution_count": 9,
     "metadata": {},
     "output_type": "execute_result"
    }
   ],
   "source": [
    "# Los ultimos 4 renglones\n",
    "matriz[-4:, :]"
   ]
  },
  {
   "cell_type": "code",
   "execution_count": 8,
   "id": "a7425a8e-f630-4cdc-94ee-d2af94af755e",
   "metadata": {},
   "outputs": [
    {
     "data": {
      "text/plain": [
       "array([[71, 36, 96, 10, 48, 22, 41, 85, 74, 14],\n",
       "       [81,  7, 42,  0, 41, 38,  1, 97, 91, 24],\n",
       "       [30, 74, 72, 14, 22, 79, 20, 91, 74, 67],\n",
       "       [76, 61, 33,  7, 67, 69, 36, 72, 37, 37]], dtype=int32)"
      ]
     },
     "execution_count": 8,
     "metadata": {},
     "output_type": "execute_result"
    }
   ],
   "source": [
    "# Los ultimos 4 renglones \n",
    "matriz[6:, :]"
   ]
  },
  {
   "cell_type": "code",
   "execution_count": 5,
   "id": "42f824bb-132b-411b-8327-f184fdd32a24",
   "metadata": {},
   "outputs": [
    {
     "data": {
      "text/plain": [
       "array([[29, 97, 81, 11, 89, 50, 64, 55, 95, 35],\n",
       "       [36, 98, 81, 61, 80, 82, 62, 49, 64, 32],\n",
       "       [75, 31,  9, 81, 92,  1,  7, 34, 13,  3]], dtype=int32)"
      ]
     },
     "execution_count": 5,
     "metadata": {},
     "output_type": "execute_result"
    }
   ],
   "source": [
    "# Los primeros 3 renglones\n",
    "matriz[0:3, :]"
   ]
  },
  {
   "cell_type": "code",
   "execution_count": null,
   "id": "69759d3c-bc46-49b6-816f-0a7ae0134e88",
   "metadata": {},
   "outputs": [],
   "source": []
  }
 ],
 "metadata": {
  "kernelspec": {
   "display_name": "Python 3 (ipykernel)",
   "language": "python",
   "name": "python3"
  },
  "language_info": {
   "codemirror_mode": {
    "name": "ipython",
    "version": 3
   },
   "file_extension": ".py",
   "mimetype": "text/x-python",
   "name": "python",
   "nbconvert_exporter": "python",
   "pygments_lexer": "ipython3",
   "version": "3.11.0"
  }
 },
 "nbformat": 4,
 "nbformat_minor": 5
}
