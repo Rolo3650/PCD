{
 "cells": [
  {
   "cell_type": "markdown",
   "id": "429db876-5192-4d98-a140-436b1f757cd3",
   "metadata": {},
   "source": [
    "# Formas de los arreglos\n",
    "## Esto es un subtitulo\n",
    "### Esto es un sub sub titulo"
   ]
  },
  {
   "cell_type": "code",
   "execution_count": 1,
   "id": "1fb48ec0-5814-4993-8a97-ef6f451dd0da",
   "metadata": {},
   "outputs": [],
   "source": [
    "import numpy as np"
   ]
  },
  {
   "cell_type": "code",
   "execution_count": 4,
   "id": "2f85fd16-be1b-4610-9389-a1e92bba9640",
   "metadata": {},
   "outputs": [
    {
     "data": {
      "text/plain": [
       "array([59, 22, 78,  7, 50, 72, 21, 44, 67,  3, 73, 26, 38, 25, 77, 94],\n",
       "      dtype=int32)"
      ]
     },
     "execution_count": 4,
     "metadata": {},
     "output_type": "execute_result"
    }
   ],
   "source": [
    "# Tensor de una dimension  con 16 elementos aleatorios\n",
    "aletorios = np.random.randint(0, 100, size=(16))\n",
    "aletorios"
   ]
  },
  {
   "cell_type": "code",
   "execution_count": 5,
   "id": "9cf46bfe-dd98-4a84-b954-8addf96ca5f6",
   "metadata": {},
   "outputs": [
    {
     "data": {
      "text/plain": [
       "array([[61, 72, 13, 44],\n",
       "       [11,  5, 24, 82],\n",
       "       [ 3, 18, 99, 19],\n",
       "       [56, 72, 50, 68]], dtype=int32)"
      ]
     },
     "execution_count": 5,
     "metadata": {},
     "output_type": "execute_result"
    }
   ],
   "source": [
    "# Tensor de 2 dimensiones y 4 elementos por dimension\n",
    "aletorios2 = np.random.randint(0, 100, size=(4,4))\n",
    "aletorios2"
   ]
  },
  {
   "cell_type": "code",
   "execution_count": 6,
   "id": "6da30293-9f0d-4ef9-a992-5a7922f1e0ca",
   "metadata": {},
   "outputs": [
    {
     "data": {
      "text/plain": [
       "array([[59, 22, 78,  7],\n",
       "       [50, 72, 21, 44],\n",
       "       [67,  3, 73, 26],\n",
       "       [38, 25, 77, 94]], dtype=int32)"
      ]
     },
     "execution_count": 6,
     "metadata": {},
     "output_type": "execute_result"
    }
   ],
   "source": [
    "# Reformatear el tensor de una dimension en un tensor de dos dimensiones con 4 renglones y 4 columnas\n",
    "aleatorios3 = aletorios.reshape(4,4)\n",
    "aleatorios3"
   ]
  },
  {
   "cell_type": "code",
   "execution_count": 7,
   "id": "a2c37021-48f7-4d33-b8d4-423b2bfb8814",
   "metadata": {},
   "outputs": [
    {
     "data": {
      "text/plain": [
       "array([[59, 22, 78,  7, 50, 72, 21, 44],\n",
       "       [67,  3, 73, 26, 38, 25, 77, 94]], dtype=int32)"
      ]
     },
     "execution_count": 7,
     "metadata": {},
     "output_type": "execute_result"
    }
   ],
   "source": [
    "# COnvertir el tensor unidimensional en un tensor de dos dimensiones con 2 renglones y 8 columnas\n",
    "aleatorios4 = aletorios.reshape(2,8)\n",
    "aleatorios4"
   ]
  },
  {
   "cell_type": "code",
   "execution_count": 8,
   "id": "9afb12a8-4c97-4947-a3a9-0a135444d6f6",
   "metadata": {},
   "outputs": [
    {
     "ename": "ValueError",
     "evalue": "cannot reshape array of size 16 into shape (3,4)",
     "output_type": "error",
     "traceback": [
      "\u001b[1;31m---------------------------------------------------------------------------\u001b[0m",
      "\u001b[1;31mValueError\u001b[0m                                Traceback (most recent call last)",
      "Cell \u001b[1;32mIn[8], line 3\u001b[0m\n\u001b[0;32m      1\u001b[0m \u001b[38;5;66;03m# Convertir el tensor de una dimension en un tensor de dos dimensiones con 3 renglones y 4 columnas\u001b[39;00m\n\u001b[1;32m----> 3\u001b[0m aleatorios5 \u001b[38;5;241m=\u001b[39m \u001b[43maletorios\u001b[49m\u001b[38;5;241;43m.\u001b[39;49m\u001b[43mreshape\u001b[49m\u001b[43m(\u001b[49m\u001b[38;5;241;43m3\u001b[39;49m\u001b[43m,\u001b[49m\u001b[38;5;241;43m4\u001b[39;49m\u001b[43m)\u001b[49m\n\u001b[0;32m      4\u001b[0m aleatorios5\n",
      "\u001b[1;31mValueError\u001b[0m: cannot reshape array of size 16 into shape (3,4)"
     ]
    }
   ],
   "source": [
    "# Convertir el tensor de una dimension en un tensor de dos dimensiones con 3 renglones y 4 columnas\n",
    "\n",
    "aleatorios5 = aletorios.reshape(3,4)\n",
    "aleatorios5"
   ]
  },
  {
   "cell_type": "code",
   "execution_count": null,
   "id": "d5be8be9-c42f-4a93-b145-9c9c17878cce",
   "metadata": {},
   "outputs": [],
   "source": []
  }
 ],
 "metadata": {
  "kernelspec": {
   "display_name": "Python 3 (ipykernel)",
   "language": "python",
   "name": "python3"
  },
  "language_info": {
   "codemirror_mode": {
    "name": "ipython",
    "version": 3
   },
   "file_extension": ".py",
   "mimetype": "text/x-python",
   "name": "python",
   "nbconvert_exporter": "python",
   "pygments_lexer": "ipython3",
   "version": "3.11.0"
  }
 },
 "nbformat": 4,
 "nbformat_minor": 5
}
