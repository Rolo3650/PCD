{
 "cells": [
  {
   "cell_type": "markdown",
   "id": "5bbc7a21-8c58-4761-b844-9f3a7361e34c",
   "metadata": {},
   "source": [
    "# Intercambio de columnas"
   ]
  },
  {
   "cell_type": "code",
   "execution_count": 1,
   "id": "775b8c1f-32f7-4890-919d-e63051879336",
   "metadata": {},
   "outputs": [],
   "source": [
    "import numpy as np"
   ]
  },
  {
   "cell_type": "code",
   "execution_count": 3,
   "id": "a0528c64-729b-41a9-bda0-292de4386850",
   "metadata": {},
   "outputs": [
    {
     "data": {
      "text/plain": [
       "array([[ 1,  2,  3,  4],\n",
       "       [ 5,  6,  7,  8],\n",
       "       [ 9, 10, 11, 12],\n",
       "       [13, 14, 15, 16]])"
      ]
     },
     "execution_count": 3,
     "metadata": {},
     "output_type": "execute_result"
    }
   ],
   "source": [
    "# Tensor de 2 dimenasiones con 4 renglones y 4 columnas\n",
    "aleatorios = np.arange(1,17).reshape(4,4)\n",
    "aleatorios"
   ]
  },
  {
   "cell_type": "code",
   "execution_count": 8,
   "id": "000e3eca-47ba-4da9-a7b6-f51713a48ab8",
   "metadata": {},
   "outputs": [
    {
     "data": {
      "text/plain": [
       "array([[ 1,  2,  3,  4],\n",
       "       [ 5,  6,  7,  8],\n",
       "       [ 9, 10, 11, 12],\n",
       "       [13, 14, 15, 16]])"
      ]
     },
     "execution_count": 8,
     "metadata": {},
     "output_type": "execute_result"
    }
   ],
   "source": [
    "# Intercamcio de las columnas 1 y 3\n",
    "aleatorios[:, [1,3]] = aleatorios[:, [3,1]]\n",
    "aleatorios"
   ]
  },
  {
   "cell_type": "code",
   "execution_count": 10,
   "id": "465bc02d-8066-4151-aa1e-7e5c9ea056ef",
   "metadata": {},
   "outputs": [
    {
     "data": {
      "text/plain": [
       "array([[ 1,  2,  3,  4],\n",
       "       [ 5,  6,  7,  8],\n",
       "       [ 9, 10, 11, 12],\n",
       "       [13, 14, 15, 16]])"
      ]
     },
     "execution_count": 10,
     "metadata": {},
     "output_type": "execute_result"
    }
   ],
   "source": [
    "# Intercambio de los renglones 0 y 3\n",
    "aleatorios[[0,3], :] = aleatorios[[3,0], :]\n",
    "aleatorios"
   ]
  },
  {
   "cell_type": "code",
   "execution_count": 11,
   "id": "4e5c7984-98c6-4378-8af7-682fdbeae922",
   "metadata": {},
   "outputs": [
    {
     "data": {
      "text/plain": [
       "array([[ 1,  2,  3,  4],\n",
       "       [ 5, 16,  7,  8],\n",
       "       [ 9, 10, 11, 12],\n",
       "       [13, 14, 15,  6]])"
      ]
     },
     "execution_count": 11,
     "metadata": {},
     "output_type": "execute_result"
    }
   ],
   "source": [
    "aleatorios[1,1], aleatorios[3,3] = aleatorios[3,3], aleatorios[1,1]\n",
    "aleatorios"
   ]
  },
  {
   "cell_type": "code",
   "execution_count": 4,
   "id": "cb2f801c-ff6a-439e-bf03-8587735e2559",
   "metadata": {},
   "outputs": [
    {
     "name": "stdout",
     "output_type": "stream",
     "text": [
      "4 5\n"
     ]
    }
   ],
   "source": [
    "a = 4\n",
    "b = 5\n",
    "print(a,b)"
   ]
  },
  {
   "cell_type": "code",
   "execution_count": 5,
   "id": "6caf7ebc-d36b-4089-aadf-bbc302971704",
   "metadata": {},
   "outputs": [
    {
     "name": "stdout",
     "output_type": "stream",
     "text": [
      "5 4\n"
     ]
    }
   ],
   "source": [
    "a, b = b,a\n",
    "print(a,b)"
   ]
  },
  {
   "cell_type": "code",
   "execution_count": 6,
   "id": "d451291d-22ba-435e-af29-06337f4e0945",
   "metadata": {},
   "outputs": [
    {
     "data": {
      "text/plain": [
       "'2.1.2'"
      ]
     },
     "execution_count": 6,
     "metadata": {},
     "output_type": "execute_result"
    }
   ],
   "source": [
    "np.__version__"
   ]
  },
  {
   "cell_type": "code",
   "execution_count": null,
   "id": "22008196-2dba-499e-bbee-958cf8ae16c7",
   "metadata": {},
   "outputs": [],
   "source": []
  }
 ],
 "metadata": {
  "kernelspec": {
   "display_name": "Python 3 (ipykernel)",
   "language": "python",
   "name": "python3"
  },
  "language_info": {
   "codemirror_mode": {
    "name": "ipython",
    "version": 3
   },
   "file_extension": ".py",
   "mimetype": "text/x-python",
   "name": "python",
   "nbconvert_exporter": "python",
   "pygments_lexer": "ipython3",
   "version": "3.11.0"
  }
 },
 "nbformat": 4,
 "nbformat_minor": 5
}
